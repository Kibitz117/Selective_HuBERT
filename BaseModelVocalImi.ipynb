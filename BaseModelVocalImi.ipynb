{
 "cells": [
  {
   "cell_type": "code",
   "execution_count": 1,
   "id": "b61683db-4a0c-4cf0-9e27-6376017eee1b",
   "metadata": {
    "tags": []
   },
   "outputs": [
    {
     "name": "stderr",
     "output_type": "stream",
     "text": [
      "/tmp/ipykernel_283955/1384774970.py:5: TqdmExperimentalWarning: Using `tqdm.autonotebook.tqdm` in notebook mode. Use `tqdm.tqdm` instead to force console mode (e.g. in jupyter console)\n",
      "  from tqdm.autonotebook import tqdm, trange\n"
     ]
    }
   ],
   "source": [
    "import torch\n",
    "import os\n",
    "\n",
    "from torch.utils.data import DataLoader\n",
    "from tqdm.autonotebook import tqdm, trange\n",
    "from transformers.optimization import AdamW\n",
    "from transformers import HubertModel, AutoConfig\n",
    "\n",
    "from models.hubert_selective import HuBERTSelectiveNet\n",
    "from utils.model_tools import *\n",
    "from utils.selective_loss import SelectiveLoss"
   ]
  },
  {
   "cell_type": "code",
   "execution_count": 2,
   "id": "67bea4e8-4e5a-4b43-ad91-5f63fb8a9bc3",
   "metadata": {
    "tags": []
   },
   "outputs": [],
   "source": [
    "# device = torch.device(\"cuda:0\" if torch.cuda.is_available() else \"cpu\")\n",
    "device = 'cpu'"
   ]
  },
  {
   "cell_type": "markdown",
   "id": "ef002292-9f34-4b5c-9fb7-07e1257fb703",
   "metadata": {},
   "source": [
    "### Loading in Vocal Imitation Data"
   ]
  },
  {
   "cell_type": "code",
   "execution_count": 3,
   "id": "b06c24f4-cc30-408d-b2b8-c1554bfd73ea",
   "metadata": {
    "tags": []
   },
   "outputs": [
    {
     "name": "stderr",
     "output_type": "stream",
     "text": [
      "Some weights of the model checkpoint at facebook/hubert-base-ls960 were not used when initializing HubertModel: ['encoder.pos_conv_embed.conv.weight_v', 'encoder.pos_conv_embed.conv.weight_g']\n",
      "- This IS expected if you are initializing HubertModel from the checkpoint of a model trained on another task or with another architecture (e.g. initializing a BertForSequenceClassification model from a BertForPreTraining model).\n",
      "- This IS NOT expected if you are initializing HubertModel from the checkpoint of a model that you expect to be exactly identical (initializing a BertForSequenceClassification model from a BertForSequenceClassification model).\n",
      "Some weights of HubertModel were not initialized from the model checkpoint at facebook/hubert-base-ls960 and are newly initialized: ['encoder.pos_conv_embed.conv.parametrizations.weight.original1', 'encoder.pos_conv_embed.conv.parametrizations.weight.original0']\n",
      "You should probably TRAIN this model on a down-stream task to be able to use it for predictions and inference.\n"
     ]
    },
    {
     "name": "stdout",
     "output_type": "stream",
     "text": [
      "data/vocal_imitation-full/labelvocabulary.csv\n",
      "data/vocal_imitation-full/fold00.json\n",
      "data/vocal_imitation-full/labelvocabulary.csv\n",
      "data/vocal_imitation-full/fold01.json\n",
      "data/vocal_imitation-full/labelvocabulary.csv\n",
      "data/vocal_imitation-full/fold02.json\n",
      "302\n"
     ]
    }
   ],
   "source": [
    "data_dir = 'data/vocal_imitation-full'\n",
    "model_id = \"facebook/hubert-base-ls960\"\n",
    "\n",
    "from transformers import Wav2Vec2FeatureExtractor\n",
    "\n",
    "hubert_model = HubertModel.from_pretrained(model_id)\n",
    "feature_extractor = Wav2Vec2FeatureExtractor.from_pretrained(model_id)\n",
    "\n",
    "for param in hubert_model.parameters():\n",
    "     param.requires_grad = False\n",
    "\n",
    "def prepare_dataset(batch):\n",
    "    waveforms, labels = zip(*batch)\n",
    "    waveforms = list(waveforms)\n",
    "    features = feature_extractor(waveforms, return_tensors=\"pt\", padding=True, sampling_rate=16000)\n",
    "    features = features.input_values\n",
    "    labels = torch.tensor(labels)\n",
    "    \n",
    "    return features, labels\n",
    ";\n",
    "fold00 = VocalImitationDataset(data_dir, fold_name='fold00')\n",
    "fold01 = VocalImitationDataset(data_dir, fold_name='fold01')\n",
    "fold02 = VocalImitationDataset(data_dir, fold_name='fold02')\n",
    "\n",
    "num_classes = len(fold00.vocab_list)\n",
    "print(num_classes)\n",
    "fold_set = set([fold00, fold01, fold02])"
   ]
  },
  {
   "cell_type": "code",
   "execution_count": 4,
   "id": "5ff4f4f2-4ab8-46e4-9641-5786e54a7afb",
   "metadata": {
    "tags": []
   },
   "outputs": [
    {
     "name": "stdout",
     "output_type": "stream",
     "text": [
      "(180160,)\n",
      "torch.Size([1, 180160])\n",
      "features: 768\n",
      "302\n"
     ]
    }
   ],
   "source": [
    "# Instantiate hubert model and make the full selectivenet\n",
    "\n",
    "# I wonder if I will have a problem with this featuresize if I need to do padding.\n",
    "\n",
    "inputs, labels = next(iter(fold00))\n",
    "print(inputs.shape)\n",
    "inputs = feature_extractor(inputs, return_tensors=\"pt\", sampling_rate=16000)\n",
    "print(inputs.input_values.shape)\n",
    "outputs = hubert_model(inputs.input_values)\n",
    "feature_size = outputs.last_hidden_state.shape[2]\n",
    "print('features:', feature_size)\n",
    "\n",
    "model = HuBERTSelectiveNet(hubert_model, num_classes=num_classes, feature_size=feature_size)\n",
    "\n",
    "print(model.num_classes)"
   ]
  },
  {
   "cell_type": "code",
   "execution_count": 5,
   "id": "b6439edf-39b9-4e8c-9116-db57d238c365",
   "metadata": {},
   "outputs": [
    {
     "name": "stderr",
     "output_type": "stream",
     "text": [
      "/home/maggie/.local/lib/python3.10/site-packages/transformers/optimization.py:411: FutureWarning: This implementation of AdamW is deprecated and will be removed in a future version. Use the PyTorch implementation torch.optim.AdamW instead, or set `no_deprecation_warning=True` to disable this warning\n",
      "  warnings.warn(\n"
     ]
    }
   ],
   "source": [
    "# class OneHotToCrossEntropyLoss(torch.nn.Module):\n",
    "#     def __init__(self):\n",
    "#         super(OneHotToCrossEntropyLoss, self).__init__()\n",
    "#         self.loss = torch.nn.CrossEntropyLoss()\n",
    "\n",
    "#     def forward(self, y_hat: torch.Tensor, y: torch.Tensor) -> torch.Tensor:\n",
    "#         # One and only one label per class\n",
    "#         assert torch.all(\n",
    "#             torch.sum(y, dim=1) == torch.tensor(1., device=y.device)\n",
    "#         )\n",
    "#         y = y.argmax(dim=1)\n",
    "#         return self.loss(y_hat, y)\n",
    "\n",
    "class OneHotToCrossEntropyLoss(torch.nn.Module):\n",
    "    def __init__(self):\n",
    "        super(OneHotToCrossEntropyLoss, self).__init__()\n",
    "        # Set reduction to 'none' to get a loss per item in the batch\n",
    "        self.loss = torch.nn.CrossEntropyLoss(reduction='none')\n",
    "\n",
    "    def forward(self, y_hat: torch.Tensor, y: torch.Tensor) -> torch.Tensor:\n",
    "        # One and only one label per class\n",
    "        assert torch.all(\n",
    "            torch.sum(y, dim=1) == torch.tensor(1., device=y.device)\n",
    "        )\n",
    "        y = y.argmax(dim=1)\n",
    "        # This will now return a tensor of shape (B,)\n",
    "        return self.loss(y_hat, y)\n",
    "\n",
    "loss_func = OneHotToCrossEntropyLoss()\n",
    "coverage = 0.8\n",
    "alpha = 0.5\n",
    "lm = 32.0\n",
    "num_epochs = 10\n",
    "batch_size = 2\n",
    "\n",
    "loss_fn = SelectiveLoss(loss_func, coverage, alpha, lm) #, device=device)\n",
    "\n",
    "# loss=loss\n",
    "# Create the optimizer\n",
    "optimizer = AdamW(model.parameters(), lr=1e-4)\n",
    "\n",
    "model_file = 'models/selective-hubert-10ep-80c.pt' # 80c is 80% coverage"
   ]
  },
  {
   "cell_type": "code",
   "execution_count": 6,
   "id": "2464625c-7e87-4796-b7c5-e014ac286e9d",
   "metadata": {
    "tags": []
   },
   "outputs": [
    {
     "data": {
      "application/vnd.jupyter.widget-view+json": {
       "model_id": "2365bc47d883442698f535a992724415",
       "version_major": 2,
       "version_minor": 0
      },
      "text/plain": [
       "  0%|          | 0/10 [00:00<?, ?it/s]"
      ]
     },
     "metadata": {},
     "output_type": "display_data"
    },
    {
     "name": "stdout",
     "output_type": "stream",
     "text": [
      "Epoch 1\n",
      "-------------------------------\n",
      "Done!\n"
     ]
    },
    {
     "ename": "IndexError",
     "evalue": "Dimension out of range (expected to be in range of [-1, 0], but got 1)",
     "output_type": "error",
     "traceback": [
      "\u001b[0;31m---------------------------------------------------------------------------\u001b[0m",
      "\u001b[0;31mIndexError\u001b[0m                                Traceback (most recent call last)",
      "Cell \u001b[0;32mIn[6], line 20\u001b[0m\n\u001b[1;32m     18\u001b[0m \u001b[38;5;28;01mfor\u001b[39;00m epoch \u001b[38;5;129;01min\u001b[39;00m t:\n\u001b[1;32m     19\u001b[0m     \u001b[38;5;28mprint\u001b[39m(\u001b[38;5;124mf\u001b[39m\u001b[38;5;124m\"\u001b[39m\u001b[38;5;124mEpoch \u001b[39m\u001b[38;5;132;01m{\u001b[39;00mepoch\u001b[38;5;241m+\u001b[39m\u001b[38;5;241m1\u001b[39m\u001b[38;5;132;01m}\u001b[39;00m\u001b[38;5;130;01m\\n\u001b[39;00m\u001b[38;5;124m-------------------------------\u001b[39m\u001b[38;5;124m\"\u001b[39m)\n\u001b[0;32m---> 20\u001b[0m     train_loss \u001b[38;5;241m=\u001b[39m \u001b[43mselective_train\u001b[49m\u001b[43m(\u001b[49m\u001b[43mtrain_loader\u001b[49m\u001b[43m,\u001b[49m\u001b[43m \u001b[49m\u001b[43mmodel\u001b[49m\u001b[43m,\u001b[49m\u001b[43m \u001b[49m\u001b[43mloss_fn\u001b[49m\u001b[43m,\u001b[49m\u001b[43m \u001b[49m\u001b[43moptimizer\u001b[49m\u001b[43m,\u001b[49m\u001b[43m \u001b[49m\u001b[43mdevice\u001b[49m\u001b[43m)\u001b[49m\n\u001b[1;32m     21\u001b[0m     test_loss \u001b[38;5;241m=\u001b[39m selective_test(test_loader, model, device)\n\u001b[1;32m     22\u001b[0m     train_losses\u001b[38;5;241m.\u001b[39mappend(train_loss)\n",
      "File \u001b[0;32m~/Selective_HuBERT/utils/model_tools.py:142\u001b[0m, in \u001b[0;36mselective_train\u001b[0;34m(dataloader, model, selective_loss, optimizer, device)\u001b[0m\n\u001b[1;32m    140\u001b[0m logits, selection_logits, auxiliary_logits \u001b[38;5;241m=\u001b[39m model(X)\n\u001b[1;32m    141\u001b[0m labels \u001b[38;5;241m=\u001b[39m y\u001b[38;5;241m.\u001b[39mlong()\n\u001b[0;32m--> 142\u001b[0m loss_dict \u001b[38;5;241m=\u001b[39m \u001b[43mselective_loss\u001b[49m\u001b[43m(\u001b[49m\u001b[43mprediction_out\u001b[49m\u001b[38;5;241;43m=\u001b[39;49m\u001b[43mlogits\u001b[49m\u001b[43m,\u001b[49m\n\u001b[1;32m    143\u001b[0m \u001b[43m                            \u001b[49m\u001b[43mselection_out\u001b[49m\u001b[38;5;241;43m=\u001b[39;49m\u001b[43mselection_logits\u001b[49m\u001b[43m,\u001b[49m\n\u001b[1;32m    144\u001b[0m \u001b[43m                            \u001b[49m\u001b[43mauxiliary_out\u001b[49m\u001b[38;5;241;43m=\u001b[39;49m\u001b[43mauxiliary_logits\u001b[49m\u001b[43m,\u001b[49m\n\u001b[1;32m    145\u001b[0m \u001b[43m                            \u001b[49m\u001b[43mtarget\u001b[49m\u001b[38;5;241;43m=\u001b[39;49m\u001b[43mlabels\u001b[49m\u001b[43m)\u001b[49m\n\u001b[1;32m    147\u001b[0m loss \u001b[38;5;241m=\u001b[39m loss_dict[\u001b[38;5;124m'\u001b[39m\u001b[38;5;124mloss\u001b[39m\u001b[38;5;124m'\u001b[39m]\n\u001b[1;32m    148\u001b[0m loss\u001b[38;5;241m.\u001b[39mbackward()\n",
      "File \u001b[0;32m~/.local/lib/python3.10/site-packages/torch/nn/modules/module.py:1518\u001b[0m, in \u001b[0;36mModule._wrapped_call_impl\u001b[0;34m(self, *args, **kwargs)\u001b[0m\n\u001b[1;32m   1516\u001b[0m     \u001b[38;5;28;01mreturn\u001b[39;00m \u001b[38;5;28mself\u001b[39m\u001b[38;5;241m.\u001b[39m_compiled_call_impl(\u001b[38;5;241m*\u001b[39margs, \u001b[38;5;241m*\u001b[39m\u001b[38;5;241m*\u001b[39mkwargs)  \u001b[38;5;66;03m# type: ignore[misc]\u001b[39;00m\n\u001b[1;32m   1517\u001b[0m \u001b[38;5;28;01melse\u001b[39;00m:\n\u001b[0;32m-> 1518\u001b[0m     \u001b[38;5;28;01mreturn\u001b[39;00m \u001b[38;5;28;43mself\u001b[39;49m\u001b[38;5;241;43m.\u001b[39;49m\u001b[43m_call_impl\u001b[49m\u001b[43m(\u001b[49m\u001b[38;5;241;43m*\u001b[39;49m\u001b[43margs\u001b[49m\u001b[43m,\u001b[49m\u001b[43m \u001b[49m\u001b[38;5;241;43m*\u001b[39;49m\u001b[38;5;241;43m*\u001b[39;49m\u001b[43mkwargs\u001b[49m\u001b[43m)\u001b[49m\n",
      "File \u001b[0;32m~/.local/lib/python3.10/site-packages/torch/nn/modules/module.py:1527\u001b[0m, in \u001b[0;36mModule._call_impl\u001b[0;34m(self, *args, **kwargs)\u001b[0m\n\u001b[1;32m   1522\u001b[0m \u001b[38;5;66;03m# If we don't have any hooks, we want to skip the rest of the logic in\u001b[39;00m\n\u001b[1;32m   1523\u001b[0m \u001b[38;5;66;03m# this function, and just call forward.\u001b[39;00m\n\u001b[1;32m   1524\u001b[0m \u001b[38;5;28;01mif\u001b[39;00m \u001b[38;5;129;01mnot\u001b[39;00m (\u001b[38;5;28mself\u001b[39m\u001b[38;5;241m.\u001b[39m_backward_hooks \u001b[38;5;129;01mor\u001b[39;00m \u001b[38;5;28mself\u001b[39m\u001b[38;5;241m.\u001b[39m_backward_pre_hooks \u001b[38;5;129;01mor\u001b[39;00m \u001b[38;5;28mself\u001b[39m\u001b[38;5;241m.\u001b[39m_forward_hooks \u001b[38;5;129;01mor\u001b[39;00m \u001b[38;5;28mself\u001b[39m\u001b[38;5;241m.\u001b[39m_forward_pre_hooks\n\u001b[1;32m   1525\u001b[0m         \u001b[38;5;129;01mor\u001b[39;00m _global_backward_pre_hooks \u001b[38;5;129;01mor\u001b[39;00m _global_backward_hooks\n\u001b[1;32m   1526\u001b[0m         \u001b[38;5;129;01mor\u001b[39;00m _global_forward_hooks \u001b[38;5;129;01mor\u001b[39;00m _global_forward_pre_hooks):\n\u001b[0;32m-> 1527\u001b[0m     \u001b[38;5;28;01mreturn\u001b[39;00m \u001b[43mforward_call\u001b[49m\u001b[43m(\u001b[49m\u001b[38;5;241;43m*\u001b[39;49m\u001b[43margs\u001b[49m\u001b[43m,\u001b[49m\u001b[43m \u001b[49m\u001b[38;5;241;43m*\u001b[39;49m\u001b[38;5;241;43m*\u001b[39;49m\u001b[43mkwargs\u001b[49m\u001b[43m)\u001b[49m\n\u001b[1;32m   1529\u001b[0m \u001b[38;5;28;01mtry\u001b[39;00m:\n\u001b[1;32m   1530\u001b[0m     result \u001b[38;5;241m=\u001b[39m \u001b[38;5;28;01mNone\u001b[39;00m\n",
      "File \u001b[0;32m~/Selective_HuBERT/utils/selective_loss.py:190\u001b[0m, in \u001b[0;36mSelectiveLoss.forward\u001b[0;34m(self, prediction_out, selection_out, auxiliary_out, target, threshold, mode)\u001b[0m\n\u001b[1;32m    187\u001b[0m emprical_coverage \u001b[38;5;241m=\u001b[39m selection_out\u001b[38;5;241m.\u001b[39mmean() \n\u001b[1;32m    189\u001b[0m \u001b[38;5;66;03m# compute emprical risk (=r^)\u001b[39;00m\n\u001b[0;32m--> 190\u001b[0m emprical_risk \u001b[38;5;241m=\u001b[39m (\u001b[38;5;28;43mself\u001b[39;49m\u001b[38;5;241;43m.\u001b[39;49m\u001b[43mloss_func\u001b[49m\u001b[43m(\u001b[49m\u001b[43mprediction_out\u001b[49m\u001b[43m,\u001b[49m\u001b[43m \u001b[49m\u001b[43mtarget\u001b[49m\u001b[43m)\u001b[49m\u001b[38;5;241m*\u001b[39mselection_out\u001b[38;5;241m.\u001b[39mview(\u001b[38;5;241m-\u001b[39m\u001b[38;5;241m1\u001b[39m))\u001b[38;5;241m.\u001b[39mmean()\n\u001b[1;32m    191\u001b[0m emprical_risk \u001b[38;5;241m=\u001b[39m emprical_risk \u001b[38;5;241m/\u001b[39m emprical_coverage\n\u001b[1;32m    193\u001b[0m \u001b[38;5;66;03m# compute penalty (=psi)\u001b[39;00m\n",
      "File \u001b[0;32m~/.local/lib/python3.10/site-packages/torch/nn/modules/module.py:1518\u001b[0m, in \u001b[0;36mModule._wrapped_call_impl\u001b[0;34m(self, *args, **kwargs)\u001b[0m\n\u001b[1;32m   1516\u001b[0m     \u001b[38;5;28;01mreturn\u001b[39;00m \u001b[38;5;28mself\u001b[39m\u001b[38;5;241m.\u001b[39m_compiled_call_impl(\u001b[38;5;241m*\u001b[39margs, \u001b[38;5;241m*\u001b[39m\u001b[38;5;241m*\u001b[39mkwargs)  \u001b[38;5;66;03m# type: ignore[misc]\u001b[39;00m\n\u001b[1;32m   1517\u001b[0m \u001b[38;5;28;01melse\u001b[39;00m:\n\u001b[0;32m-> 1518\u001b[0m     \u001b[38;5;28;01mreturn\u001b[39;00m \u001b[38;5;28;43mself\u001b[39;49m\u001b[38;5;241;43m.\u001b[39;49m\u001b[43m_call_impl\u001b[49m\u001b[43m(\u001b[49m\u001b[38;5;241;43m*\u001b[39;49m\u001b[43margs\u001b[49m\u001b[43m,\u001b[49m\u001b[43m \u001b[49m\u001b[38;5;241;43m*\u001b[39;49m\u001b[38;5;241;43m*\u001b[39;49m\u001b[43mkwargs\u001b[49m\u001b[43m)\u001b[49m\n",
      "File \u001b[0;32m~/.local/lib/python3.10/site-packages/torch/nn/modules/module.py:1527\u001b[0m, in \u001b[0;36mModule._call_impl\u001b[0;34m(self, *args, **kwargs)\u001b[0m\n\u001b[1;32m   1522\u001b[0m \u001b[38;5;66;03m# If we don't have any hooks, we want to skip the rest of the logic in\u001b[39;00m\n\u001b[1;32m   1523\u001b[0m \u001b[38;5;66;03m# this function, and just call forward.\u001b[39;00m\n\u001b[1;32m   1524\u001b[0m \u001b[38;5;28;01mif\u001b[39;00m \u001b[38;5;129;01mnot\u001b[39;00m (\u001b[38;5;28mself\u001b[39m\u001b[38;5;241m.\u001b[39m_backward_hooks \u001b[38;5;129;01mor\u001b[39;00m \u001b[38;5;28mself\u001b[39m\u001b[38;5;241m.\u001b[39m_backward_pre_hooks \u001b[38;5;129;01mor\u001b[39;00m \u001b[38;5;28mself\u001b[39m\u001b[38;5;241m.\u001b[39m_forward_hooks \u001b[38;5;129;01mor\u001b[39;00m \u001b[38;5;28mself\u001b[39m\u001b[38;5;241m.\u001b[39m_forward_pre_hooks\n\u001b[1;32m   1525\u001b[0m         \u001b[38;5;129;01mor\u001b[39;00m _global_backward_pre_hooks \u001b[38;5;129;01mor\u001b[39;00m _global_backward_hooks\n\u001b[1;32m   1526\u001b[0m         \u001b[38;5;129;01mor\u001b[39;00m _global_forward_hooks \u001b[38;5;129;01mor\u001b[39;00m _global_forward_pre_hooks):\n\u001b[0;32m-> 1527\u001b[0m     \u001b[38;5;28;01mreturn\u001b[39;00m \u001b[43mforward_call\u001b[49m\u001b[43m(\u001b[49m\u001b[38;5;241;43m*\u001b[39;49m\u001b[43margs\u001b[49m\u001b[43m,\u001b[49m\u001b[43m \u001b[49m\u001b[38;5;241;43m*\u001b[39;49m\u001b[38;5;241;43m*\u001b[39;49m\u001b[43mkwargs\u001b[49m\u001b[43m)\u001b[49m\n\u001b[1;32m   1529\u001b[0m \u001b[38;5;28;01mtry\u001b[39;00m:\n\u001b[1;32m   1530\u001b[0m     result \u001b[38;5;241m=\u001b[39m \u001b[38;5;28;01mNone\u001b[39;00m\n",
      "Cell \u001b[0;32mIn[5], line 23\u001b[0m, in \u001b[0;36mOneHotToCrossEntropyLoss.forward\u001b[0;34m(self, y_hat, y)\u001b[0m\n\u001b[1;32m     20\u001b[0m \u001b[38;5;28;01mdef\u001b[39;00m \u001b[38;5;21mforward\u001b[39m(\u001b[38;5;28mself\u001b[39m, y_hat: torch\u001b[38;5;241m.\u001b[39mTensor, y: torch\u001b[38;5;241m.\u001b[39mTensor) \u001b[38;5;241m-\u001b[39m\u001b[38;5;241m>\u001b[39m torch\u001b[38;5;241m.\u001b[39mTensor:\n\u001b[1;32m     21\u001b[0m     \u001b[38;5;66;03m# One and only one label per class\u001b[39;00m\n\u001b[1;32m     22\u001b[0m     \u001b[38;5;28;01massert\u001b[39;00m torch\u001b[38;5;241m.\u001b[39mall(\n\u001b[0;32m---> 23\u001b[0m         \u001b[43mtorch\u001b[49m\u001b[38;5;241;43m.\u001b[39;49m\u001b[43msum\u001b[49m\u001b[43m(\u001b[49m\u001b[43my\u001b[49m\u001b[43m,\u001b[49m\u001b[43m \u001b[49m\u001b[43mdim\u001b[49m\u001b[38;5;241;43m=\u001b[39;49m\u001b[38;5;241;43m1\u001b[39;49m\u001b[43m)\u001b[49m \u001b[38;5;241m==\u001b[39m torch\u001b[38;5;241m.\u001b[39mtensor(\u001b[38;5;241m1.\u001b[39m, device\u001b[38;5;241m=\u001b[39my\u001b[38;5;241m.\u001b[39mdevice)\n\u001b[1;32m     24\u001b[0m     )\n\u001b[1;32m     25\u001b[0m     y \u001b[38;5;241m=\u001b[39m y\u001b[38;5;241m.\u001b[39margmax(dim\u001b[38;5;241m=\u001b[39m\u001b[38;5;241m1\u001b[39m)\n\u001b[1;32m     26\u001b[0m     \u001b[38;5;66;03m# This will now return a tensor of shape (B,)\u001b[39;00m\n",
      "\u001b[0;31mIndexError\u001b[0m: Dimension out of range (expected to be in range of [-1, 0], but got 1)"
     ]
    }
   ],
   "source": [
    "train_losses_file = 'logs/selective-hubert-10ep-80c-train.txt'\n",
    "test_losses_file = 'logs/selective-hubert-10ep-80c-test.txt'\n",
    "\n",
    "train_losses = []\n",
    "test_losses = []\n",
    "t = trange(num_epochs)\n",
    "\n",
    "model.to(device)\n",
    "\n",
    "try:\n",
    "    for fold in fold_set:\n",
    "        off_folds = fold_set.difference([fold])\n",
    "        off_concat = torch.utils.data.ConcatDataset(off_folds)\n",
    "        \n",
    "        train_loader = DataLoader(fold, batch_size=batch_size, shuffle=True, num_workers=os.cpu_count())\n",
    "        test_loader = DataLoader(off_concat, batch_size=batch_size, shuffle=True, num_workers=os.cpu_count())\n",
    "    \n",
    "        for epoch in t:\n",
    "            print(f\"Epoch {epoch+1}\\n-------------------------------\")\n",
    "            train_loss = selective_train(train_loader, model, loss_fn, optimizer, device)\n",
    "            test_loss = selective_test(test_loader, model, device)\n",
    "            train_losses.append(train_loss)\n",
    "            test_losses.append(test_loss)\n",
    "            \n",
    "            torch.save(model.state_dict(), model_file)\n",
    "\n",
    "finally:\n",
    "    with open(train_losses_file, 'w') as fp:\n",
    "        for s in train_losses:\n",
    "            fp.write(\"%s\\n\" % s)\n",
    "            \n",
    "    with open(test_losses_file, 'w') as fp:\n",
    "        for x in test_losses:\n",
    "            fp.write(\"%s\\n\" % x)\n",
    "    \n",
    "    print(\"Done!\")"
   ]
  },
  {
   "cell_type": "code",
   "execution_count": null,
   "id": "a5b44ab4-2636-46c1-a2a7-cf87741b1eb3",
   "metadata": {},
   "outputs": [],
   "source": [
    "# ValueError: Expected more than 1 value per channel when training, got input size torch.Size([1, 768])"
   ]
  }
 ],
 "metadata": {
  "kernelspec": {
   "display_name": "Python 3 (ipykernel)",
   "language": "python",
   "name": "python3"
  },
  "language_info": {
   "codemirror_mode": {
    "name": "ipython",
    "version": 3
   },
   "file_extension": ".py",
   "mimetype": "text/x-python",
   "name": "python",
   "nbconvert_exporter": "python",
   "pygments_lexer": "ipython3",
   "version": "3.10.12"
  }
 },
 "nbformat": 4,
 "nbformat_minor": 5
}
